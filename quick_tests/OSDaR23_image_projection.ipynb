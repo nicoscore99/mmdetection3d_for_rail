{
 "cells": [
  {
   "cell_type": "code",
   "execution_count": 759,
   "metadata": {},
   "outputs": [],
   "source": [
    "from mmdet3d.visualization import Det3DLocalVisualizer\n",
    "from mmdet3d.apis import LidarDet3DInferencer\n",
    "\n",
    "import mmcv\n",
    "import numpy as np\n",
    "from mmengine import load\n",
    "\n",
    "import os.path as osp\n",
    "import os\n",
    "from mmdet3d.visualization import Det3DLocalVisualizer\n",
    "from mmdet3d.structures import CameraInstance3DBoxes, LiDARInstance3DBoxes\n",
    "import pandas as pd\n",
    "\n",
    "import matplotlib.pyplot as plt\n",
    "import matplotlib.image as mpimg\n",
    "\n",
    "import cv2\n"
   ]
  },
  {
   "cell_type": "code",
   "execution_count": 760,
   "metadata": {},
   "outputs": [],
   "source": [
    "def distort_points(points, disto_coeffs):\n",
    "    # undistort points\n",
    "    points = points[:, :2]\n",
    "    \n",
    "    # Radius for each point\n",
    "    r = np.sqrt(np.sum(points**2, axis=1))\n",
    "\n",
    "    def distortion_factors(_r, disto_coeffs):\n",
    "        disto_factors = np.ones_like(_r)\n",
    "        for i in range(len(disto_coeffs)):\n",
    "            disto_factors += disto_coeffs[i] * _r ** (2 * (i + 1))\n",
    "\n",
    "        return disto_factors\n",
    "    \n",
    "    # Compute distortion factors\n",
    "    disto_factors = distortion_factors(r, disto_coeffs)\n",
    "\n",
    "    points = points * disto_factors[:, None]\n",
    "\n",
    "    return points"
   ]
  },
  {
   "cell_type": "code",
   "execution_count": 761,
   "metadata": {},
   "outputs": [],
   "source": [
    "# cv2_undistored_points = cv2.fisheye.distortPoints(anker_points_camera.T[:, 0:2].reshape(-1, 1, 2), K=camera_matrix, D=distortion_coeffs)\n",
    "\n",
    "# cv2_undistored_points = cv2_undistored_points.reshape(-1, 2)\n",
    "\n",
    "# anker_points_camera[0:2, :] = cv2_undistored_points.T"
   ]
  },
  {
   "cell_type": "code",
   "execution_count": 762,
   "metadata": {},
   "outputs": [],
   "source": [
    "rgb_left = '/home/nicolasstillhard/mmdetection3d_for_rail/data/osdar23_test/orig/8_station_altona_8.2/rgb_left/144_1631700823.500000016.png'\n",
    "rgb_right = '/home/nicolasstillhard/mmdetection3d_for_rail/data/osdar23_test/orig/8_station_altona_8.2/rgb_right/144_1631700823.500000032.png'\n",
    "rgb_center = '/home/nicolasstillhard/mmdetection3d_for_rail/data/osdar23_test/orig/8_station_altona_8.2/rgb_center/144_1631700823.500000056.png'\n",
    "lidar = '/home/nicolasstillhard/mmdetection3d_for_rail/data/osdar23_test/points/8_station_altona_8.2_144.bin'\n",
    "model = '/home/nicolasstillhard/mmdetection3d_for_rail/checkpoints/rtx4k_pvrcnn_run1/epoch_40.pth'\n",
    "config = '/home/nicolasstillhard/mmdetection3d_for_rail/checkpoints/rtx4k_pvrcnn_run1/pv_rcnn_8xb2-80e_osdar23-3d.py'"
   ]
  },
  {
   "cell_type": "code",
   "execution_count": null,
   "metadata": {},
   "outputs": [],
   "source": [
    "# Read the image \n",
    "\n",
    "img_left = mpimg.imread(rgb_left)\n",
    "img_right = mpimg.imread(rgb_right)\n",
    "img_center = mpimg.imread(rgb_center)\n",
    "\n",
    "# Three subplots sharing both x/y axes\n",
    "\n",
    "fig, axs = plt.subplots(1, 3, figsize=(15, 5))\n",
    "axs[0].imshow(img_left)\n",
    "axs[0].set_title('Left Camera')\n",
    "axs[1].imshow(img_center)\n",
    "axs[1].set_title('Center Camera')\n",
    "axs[2].imshow(img_right)\n",
    "axs[2].set_title('Right Camera')\n",
    "\n",
    "plt.show()"
   ]
  },
  {
   "cell_type": "markdown",
   "metadata": {},
   "source": []
  },
  {
   "cell_type": "code",
   "execution_count": 764,
   "metadata": {},
   "outputs": [],
   "source": [
    "gt_bounding_box_path = '/home/nicolasstillhard/mmdetection3d_for_rail/data/osdar23/labels/8_station_altona_8.2_144.txt'\n",
    "\n",
    "\n",
    "gt_bboxes = pd.read_csv(gt_bounding_box_path, delimiter=' ', header=None)\n",
    "\n",
    "# Discard the columns 1-7, keep column 0 and 8-14\n",
    "gt_bboxes = gt_bboxes.iloc[:, [0, 8, 9, 10, 11, 12, 13, 14]]\n",
    "\n",
    "# rename the bounding boxes\n",
    "\n",
    "\n",
    "gt_bboxes.columns = ['class', 'dy', 'dz', 'dx', 'x', 'y', 'z', 'yaw']\n",
    "\n",
    "# only look at 'pedestrian' and 'train' class\n",
    "gt_bboxes = gt_bboxes[gt_bboxes['class'].isin(['pedestrian', 'train'])]\n"
   ]
  },
  {
   "cell_type": "code",
   "execution_count": null,
   "metadata": {},
   "outputs": [],
   "source": [
    "coordinate_frame_correction = np.array([[0, -1,0],\n",
    "                                     [0,0,-1],\n",
    "                                     [1,0,0]])\n",
    "\n",
    "rotation_and_translation = np.array([[0.994801848338136, -0.008253767163616355, 0.1014946199098106, 0.05399349045425253],\n",
    "                                     [0.008530331054488222, 0.9999609911792882, -0.002291194412618652, -0.2858909428211028],\n",
    "                                      [-0.101471749739171, 0.00314506714465518, 0.9948334496575426, 3.506285581367224]])\n",
    "\n",
    "rotation_matrix = np.array([[0.994801848338136, -0.008253767163616355, 0.1014946199098106],\n",
    "                            [0.008530331054488222, 0.9999609911792882, -0.002291194412618652],\n",
    "                            [-0.101471749739171, 0.00314506714465518, 0.9948334496575426]])\n",
    "\n",
    "camera_matrix = np.array([[4609.471892628096, 0, 1257.158605934],\n",
    "                          [0, 4609.471892628096, 820.0498076210201],\n",
    "                          [ 0, 0, 1]])\n",
    "\n",
    "# anker_point_coordinates_lidar = gt_bboxes.iloc[:, 4:7].values\n",
    "# print(\"Debug: anker_point_coordinates shape: \", anker_point_coordinates_lidar.shape)\n",
    "\n",
    "\n",
    "anker_point_coordinates_lidar = np.array([[10.05399349045425253, -0.2858909428211028, 3.506285581367224],\n",
    "                               [10.05399349045425253, -2.2858909428211028, 3.506285581367224],\n",
    "                               [10.05399349045425253, -4.2858909428211028, 3.506285581367224],\n",
    "                               [10.05399349045425253, -6.2858909428211028, 3.506285581367224],\n",
    "                               [10.05399349045425253, 1.7141096, 3.506285581367224],\n",
    "                               [10.05399349045425253, 3.7141096, 3.506285581367224],\n",
    "                               [10.05399349045425253, 5.7141096, 3.506285581367224],\n",
    "                               [10.05399349045425253, -0.2858909428211028, 1.506285581367224],\n",
    "                               [10.05399349045425253, -0.2858909428211028, -0.493714418632776],\n",
    "                               [10.05399349045425253, -0.2858909428211028, -2.493714418632776],\n",
    "                               [10.05399349045425253, -0.2858909428211028, 5.506285581367224],\n",
    "                               [10.05399349045425253, -0.2858909428211028, 7.506285581367224],\n",
    "                               [10.05399349045425253, -0.2858909428211028, 9.506285581367224]])\n",
    "\n",
    "anker_points_lidar_extended = np.hstack((anker_point_coordinates_lidar, np.ones((anker_point_coordinates_lidar.shape[0], 1))))\n",
    "print(\"Debug: anker_point_coordinates shape: \", anker_points_lidar_extended.shape)"
   ]
  },
  {
   "cell_type": "code",
   "execution_count": 766,
   "metadata": {},
   "outputs": [],
   "source": [
    "# camera_matrix_no_centering = np.array([[4609.471892628096, 0, 0],\n",
    "#                           [0, 4609.471892628096, 0],\n",
    "#                           [ 0, 0, 1]])\n",
    "\n",
    "# new_camera_matrix = np.matmul(coordinate_frame_correction, camera_matrix_no_centering)\n",
    "\n",
    "# # new_camera_matrix[0, 2] = 1257.158605934\n",
    "# # new_camera_matrix[1, 2] = 820.0498076210201\n",
    "\n",
    "# new_camera_matrix"
   ]
  },
  {
   "cell_type": "code",
   "execution_count": 767,
   "metadata": {},
   "outputs": [],
   "source": [
    "# rotation_matrix = np.matmul(coordinate_frame_correction, rotation_matrix)\n",
    "\n",
    "# rotation_and_translation = np.hstack((rotation_matrix, np.array([[0.05399349045425253], [-0.2858909428211028], [3.506285581367224]])))"
   ]
  },
  {
   "cell_type": "code",
   "execution_count": null,
   "metadata": {},
   "outputs": [],
   "source": [
    "image_height = 1600\n",
    "image_width = 2464\n",
    "\n",
    "anker_points_camera = np.matmul(rotation_and_translation, anker_points_lidar_extended.T)\n",
    "\n",
    "#anker_points_camera = np.matmul(coordinate_frame_correction, anker_points_camera_in_paper)\n",
    "print(\"Debug: anker_point_coordinates shape: \", anker_points_camera.shape)"
   ]
  },
  {
   "cell_type": "code",
   "execution_count": 769,
   "metadata": {},
   "outputs": [],
   "source": [
    "anker_points_image = np.matmul(camera_matrix, anker_points_camera).T"
   ]
  },
  {
   "cell_type": "code",
   "execution_count": null,
   "metadata": {},
   "outputs": [],
   "source": [
    "anker_points_image"
   ]
  },
  {
   "cell_type": "code",
   "execution_count": 771,
   "metadata": {},
   "outputs": [],
   "source": [
    "anker_points_image = anker_points_image / anker_points_image[:, 2].reshape(-1, 1)"
   ]
  },
  {
   "cell_type": "code",
   "execution_count": 772,
   "metadata": {},
   "outputs": [],
   "source": [
    "x_coords = anker_points_image[:, 0]\n",
    "y_coords = anker_points_image[:, 1]\n",
    "\n",
    "labels = gt_bboxes['class'].values\n"
   ]
  },
  {
   "cell_type": "code",
   "execution_count": null,
   "metadata": {},
   "outputs": [],
   "source": [
    "img = mpimg.imread(rgb_center)\n",
    "\n",
    "# Plot the image and the points in a big scatter plot\n",
    "fig, ax = plt.subplots()\n",
    "\n",
    "ax.imshow(img)\n",
    "\n",
    "unique_labels = np.unique(labels)\n",
    "label_to_numeric = {label: i for i, label in enumerate(unique_labels)}\n",
    "numeric_labels = np.array([label_to_numeric[label] for label in labels])\n",
    "\n",
    "# ax.scatter(x_coords, y_coords, marker = 'o', s=10, c=numeric_labels, cmap='winter')\n",
    "ax.scatter(x_coords, y_coords, marker = 'x', s=50, c='red')\n",
    "\n",
    "ax.set_xlabel('x')\n",
    "ax.set_ylabel('y')\n",
    "\n",
    "scale_factor = 10\n",
    "\n",
    "\n",
    "# Set x and y limits to the image size\n",
    "ax.set_xlim(-scale_factor*image_width, image_width*scale_factor)\n",
    "ax.set_ylim(scale_factor*image_height, -image_height*scale_factor)\n",
    "\n",
    "# ax.set_xlim(0, scale_factor*image_width*2)\n",
    "# ax.set_ylim(image_height*scale_factor*2, 0)\n",
    "\n",
    "\n",
    "# # Set x and y limits to +- 20000\n",
    "# ax.set_xlim(-5000, 5000)\n",
    "# ax.set_ylim(5000, -5000)\n",
    "\n",
    "plt.show()"
   ]
  },
  {
   "cell_type": "code",
   "execution_count": null,
   "metadata": {},
   "outputs": [],
   "source": [
    "cv2_image = cv2.imread(rgb_center)\n",
    "cv2_image_rgb = cv2.cvtColor(cv2_image, cv2.COLOR_BGR2RGB)\n",
    "\n",
    "for i in range(anker_points_image.shape[0]):\n",
    "    cv2.circle(cv2_image_rgb, (int(x_coords[i]), int(y_coords[i])), 20, (255, 0, 0), -1)\n",
    "\n",
    "# Define the axis limits\n",
    "# plt.xlim(-5000, 5000)\n",
    "# plt.ylim(5000, -5000)\n",
    "\n",
    "\n",
    "plt.imshow(cv2_image_rgb)\n",
    "\n",
    "plt.show()"
   ]
  }
 ],
 "metadata": {
  "kernelspec": {
   "display_name": "openmmlab",
   "language": "python",
   "name": "python3"
  },
  "language_info": {
   "codemirror_mode": {
    "name": "ipython",
    "version": 3
   },
   "file_extension": ".py",
   "mimetype": "text/x-python",
   "name": "python",
   "nbconvert_exporter": "python",
   "pygments_lexer": "ipython3",
   "version": "3.8.19"
  }
 },
 "nbformat": 4,
 "nbformat_minor": 2
}
