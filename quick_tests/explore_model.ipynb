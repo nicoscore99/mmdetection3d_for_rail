{
 "cells": [
  {
   "cell_type": "code",
   "execution_count": 10,
   "metadata": {},
   "outputs": [],
   "source": [
    "# -*- coding: utf-8 -*-\n",
    "from mmdet3d.registry import MODELS\n",
    "from mmdet3d.testing import (create_detector_inputs, get_detector_cfg, setup_seed)\n",
    "import torchinfo\n",
    "\n",
    "\n",
    "from mmdet3d.utils import register_all_modules\n",
    "register_all_modules()"
   ]
  },
  {
   "cell_type": "code",
   "execution_count": 11,
   "metadata": {},
   "outputs": [],
   "source": [
    "pointpillars_cfg = get_detector_cfg('/home/cws-ml-lab/mmdetection3d_for_rail/configs/_base_/models/pointpillars_hv_secfpn_kitti.py')\n",
    "\n",
    "model = MODELS.build(pointpillars_cfg)\n",
    "num_gt_instance = 2\n",
    "packed_inputs = create_detector_inputs(num_gt_instance=num_gt_instance)"
   ]
  },
  {
   "cell_type": "code",
   "execution_count": null,
   "metadata": {},
   "outputs": [],
   "source": [
    "second_model_config = pointpillars_cfg['backbone'].pop('type')\n",
    "second_model = SECOND(init_cfg=pointpillars_cfg['backbone'])\n",
    "secondfpn_model_config = pointpillars_cfg['neck'].pop('type')\n",
    "secondfpn_model = SECONDFPN(init_cfg=pointpillars_cfg['neck'])\n",
    "anchor3d_head_config = pointpillars_cfg['bbox_head'].pop('type')\n",
    "anchor3d_head = Anchor3DHead(**pointpillars_cfg['bbox_head'])"
   ]
  },
  {
   "cell_type": "code",
   "execution_count": null,
   "metadata": {},
   "outputs": [],
   "source": [
    "torchinfo.summary(second_model, input_size=(1, 128, 496, 440))"
   ]
  },
  {
   "cell_type": "code",
   "execution_count": null,
   "metadata": {},
   "outputs": [],
   "source": [
    "# import path for the .pth file\n",
    "pth_file = '/home/nicolasstillhard/mmdetection3d_for_rail/checkpoints/hv_pointpillars_secfpn_6x8_160e_kitti-3d-3class_20220301_150306-37dc2420.pth'"
   ]
  }
 ],
 "metadata": {
  "kernelspec": {
   "display_name": "Python 3",
   "language": "python",
   "name": "python3"
  },
  "language_info": {
   "codemirror_mode": {
    "name": "ipython",
    "version": 3
   },
   "file_extension": ".py",
   "mimetype": "text/x-python",
   "name": "python",
   "nbconvert_exporter": "python",
   "pygments_lexer": "ipython3",
   "version": "3.10.12"
  }
 },
 "nbformat": 4,
 "nbformat_minor": 2
}
