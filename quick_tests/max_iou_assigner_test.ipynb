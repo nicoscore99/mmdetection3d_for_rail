{
 "cells": [
  {
   "cell_type": "code",
   "execution_count": 54,
   "metadata": {},
   "outputs": [],
   "source": [
    "import torch\n",
    "\n",
    "from mmdet.models.task_modules import AssignResult, MaxIoUAssigner\n",
    "from mmengine.structures import InstanceData\n",
    "from mmdet3d.models.task_modules import Max3DIoUAssigner"
   ]
  },
  {
   "cell_type": "code",
   "execution_count": 56,
   "metadata": {},
   "outputs": [],
   "source": [
    "iou_assigner = MaxIoUAssigner(pos_iou_thr=0.01,\n",
    "                              neg_iou_thr=0.01,\n",
    "                              min_pos_iou=0.01,\n",
    "                              iou_calculator=dict(type='mmdet3d.BboxOverlapsNearest3D', coordinate='lidar'))"
   ]
  },
  {
   "cell_type": "code",
   "execution_count": 57,
   "metadata": {},
   "outputs": [],
   "source": [
    "gt_instances = InstanceData()\n",
    "gt_instances.bboxes = torch.tensor([[ 45.8200,  13.2000,   0.1000,   0.9000,   0.9000,   7.7000,   0.0000],\n",
    "                [ 45.8300,  -4.6500,  -0.0900,  22.0000,   4.1000,   0.2000,   0.0000],\n",
    "                [  8.8500,  -0.6900,  -0.1000,  16.7000,   3.4000,   0.2000,   0.0000],\n",
    "                [ 55.9000, -10.4600,  -0.2000,   3.1000,   2.0000,   1.6000,   0.0000],\n",
    "                [ 34.6100,  -5.6400,  -0.1000,   0.6000,   0.6000,   0.9000,   0.0000]])\n",
    "gt_instances.labels = torch.tensor([5, 5, 5, 1, 5])"
   ]
  },
  {
   "cell_type": "code",
   "execution_count": 58,
   "metadata": {},
   "outputs": [],
   "source": [
    "dt_instances = InstanceData()\n",
    "dt_instances.priors = torch.tensor([[ 3.8680e+01, -9.5036e+00,  7.1339e-01,  8.7969e-01,  9.3681e-01,\n",
    "                  1.9968e+00, -1.1783e-01],\n",
    "                [ 1.4481e+01,  4.0389e+00,  8.5543e-01,  8.6040e-01,  6.4928e-01,\n",
    "                  1.7016e+00,  9.0947e-02],\n",
    "                [ 1.6521e+01,  4.5969e+00,  1.0602e+00,  7.5291e-01,  7.3060e-01,\n",
    "                  1.7669e+00,  8.6079e-02],\n",
    "                [ 4.9818e+01,  4.3383e+00,  9.2055e-01,  9.5911e-01,  9.0707e-01,\n",
    "                  1.7852e+00,  4.5954e-02],\n",
    "                [ 4.0862e+00,  3.4213e+00,  8.5359e-01,  8.4843e-01,  7.4948e-01,\n",
    "                  1.8617e+00,  1.9483e-02],\n",
    "                [ 4.3913e+01,  3.3808e+00,  8.1690e-01,  9.0391e-01,  9.5475e-01,\n",
    "                  1.8193e+00,  6.0861e-02],\n",
    "                [ 5.7017e+01, -1.0768e+01, -1.9111e-01,  3.3602e+00,  1.9863e+00,\n",
    "                  1.6976e+00, -5.2886e-02],\n",
    "                [ 3.6887e+01, -6.3361e+00, -1.7617e-01,  3.7145e+00,  1.7744e+00,\n",
    "                  1.6412e+00, -6.6219e-02],\n",
    "                [ 2.4804e+00, -8.1512e+00,  9.2352e-01,  1.9509e+00,  6.2169e-01,\n",
    "                  1.3394e+00,  1.4348e-02],\n",
    "                [ 2.7459e+00,  6.5702e+00,  1.0851e+00,  1.9036e+00,  1.1990e+00,\n",
    "                  1.1674e+00,  1.6456e-01],\n",
    "                [ 3.5413e+01, -5.6139e+00,  2.5867e-01,  6.2903e-01,  1.6297e+00,\n",
    "                  1.2370e+00,  4.8094e-02],\n",
    "                [ 5.0247e+00,  6.8900e+00,  1.0892e+00,  1.8994e+00,  1.1975e+00,\n",
    "                  1.1689e+00,  1.3946e-01],\n",
    "                [ 1.0250e+01,  6.5717e+00,  1.1359e+00,  1.8487e+00,  1.2232e+00,\n",
    "                  1.1765e+00,  7.7648e-02],\n",
    "                [ 1.4172e+01,  6.5715e+00,  1.1571e+00,  1.8550e+00,  1.1836e+00,\n",
    "                  1.1710e+00,  1.1761e-01],\n",
    "                [ 6.9854e+00,  6.8942e+00,  1.1005e+00,  1.9341e+00,  1.1563e+00,\n",
    "                  1.1808e+00,  8.6289e-02],\n",
    "                [ 4.8763e+01, -1.0130e+01,  7.5201e-01,  3.9911e-01,  4.1503e-01,\n",
    "                  4.0265e-01, -3.0695e-01],\n",
    "                [ 2.8116e+01,  3.3018e+00,  1.5874e-01,  1.5528e+00,  1.0205e+00,\n",
    "                  1.1600e+01,  1.1321e-02],\n",
    "                [ 4.1227e+01, -9.4879e+00,  2.2122e+00,  1.4181e+00,  9.0024e-01,\n",
    "                  2.0937e+00, -1.1523e-01],\n",
    "                [ 4.6754e+01, -9.8203e+00,  2.4788e+00,  1.2987e+00,  9.6878e-01,\n",
    "                  3.6339e+00, -2.6320e-01],\n",
    "                [ 5.2555e+01, -1.0419e+01, -1.7458e-02,  1.2297e+00,  1.0250e+00,\n",
    "                  9.0816e+00, -3.1871e-03]])\n",
    "dt_instances.labels = torch.tensor([0, 0, 0, 0, 0, 0, 1, 1, 3, 3, 3, 3, 3, 3, 3, 4, 5, 5, 5, 5])"
   ]
  },
  {
   "cell_type": "code",
   "execution_count": 59,
   "metadata": {},
   "outputs": [],
   "source": [
    "assign_result = iou_assigner.assign(dt_instances, gt_instances)"
   ]
  },
  {
   "cell_type": "code",
   "execution_count": null,
   "metadata": {},
   "outputs": [],
   "source": [
    "assign_result"
   ]
  },
  {
   "cell_type": "code",
   "execution_count": null,
   "metadata": {},
   "outputs": [],
   "source": [
    "assign_result.gt_inds"
   ]
  },
  {
   "cell_type": "code",
   "execution_count": null,
   "metadata": {},
   "outputs": [],
   "source": [
    "assign_result.max_overlaps"
   ]
  },
  {
   "cell_type": "code",
   "execution_count": null,
   "metadata": {},
   "outputs": [],
   "source": [
    "assign_result.labels"
   ]
  },
  {
   "cell_type": "code",
   "execution_count": null,
   "metadata": {},
   "outputs": [],
   "source": [
    "relevant_inds = assign_result.labels != -1\n",
    "print(relevant_inds)"
   ]
  },
  {
   "cell_type": "code",
   "execution_count": null,
   "metadata": {},
   "outputs": [],
   "source": [
    "_y_true = assign_result.labels[relevant_inds]\n",
    "print(_y_true)"
   ]
  },
  {
   "cell_type": "code",
   "execution_count": null,
   "metadata": {},
   "outputs": [],
   "source": [
    "_y_pred = dt_instances.labels[relevant_inds]\n",
    "print(_y_pred)"
   ]
  }
 ],
 "metadata": {
  "kernelspec": {
   "display_name": "Python 3",
   "language": "python",
   "name": "python3"
  },
  "language_info": {
   "codemirror_mode": {
    "name": "ipython",
    "version": 3
   },
   "file_extension": ".py",
   "mimetype": "text/x-python",
   "name": "python",
   "nbconvert_exporter": "python",
   "pygments_lexer": "ipython3",
   "version": "3.8.-1"
  }
 },
 "nbformat": 4,
 "nbformat_minor": 2
}
