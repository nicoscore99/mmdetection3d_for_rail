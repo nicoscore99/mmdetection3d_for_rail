{
 "cells": [
  {
   "cell_type": "code",
   "execution_count": 80,
   "metadata": {},
   "outputs": [],
   "source": [
    "import numpy as np\n",
    "import matplotlib.pyplot as plt\n",
    "import open3d as o3d\n",
    "import os\n",
    "import os.path as osp\n",
    "from pypcd import pypcd\n",
    "from pandas import DataFrame\n",
    "import pandas as pd"
   ]
  },
  {
   "cell_type": "code",
   "execution_count": 81,
   "metadata": {},
   "outputs": [],
   "source": [
    "link_to_osdar_folder = '/home/nicolasstillhard/osdar_folder'\n",
    "\n",
    "# Create a list with all the paths contained in the link_to_osdar_folder\n",
    "folders = [osp.join(link_to_osdar_folder, f) for f in os.listdir(link_to_osdar_folder) if osp.isdir(osp.join(link_to_osdar_folder, f))]"
   ]
  },
  {
   "cell_type": "code",
   "execution_count": 103,
   "metadata": {},
   "outputs": [],
   "source": [
    "lidar_number_to_sensor = {\n",
    "    0: 'Hesai Mid-Range',\n",
    "    1: 'Livox Long-Range (1)',\n",
    "    2: 'Livox Long-Range (2)',\n",
    "    3: 'Livox Long-Range (3)',\n",
    "    4: 'WAYMO Short-Range (1)',\n",
    "    5: 'WAYMO Short-Range (2)',\n",
    "}\n",
    "\n",
    "lidar_number_to_color = {\n",
    "    0: 'red',\n",
    "    1: 'navy',\n",
    "    2: 'cornflowerblue',\n",
    "    3: 'royalblue',\n",
    "    4: 'limegreen',\n",
    "    5: 'forestgreen',\n",
    "}\n",
    "\n",
    "# Translate the colors to rgb values\n",
    "\n",
    "lidar_number_to_rgb = {\n",
    "    0: (1, 0, 0),\n",
    "    1: (0, 0, 1),\n",
    "    2: (0.39, 0.58, 0.93),\n",
    "    3: (0.25, 0.41, 0.88),\n",
    "    4: (0, 0.5, 0),\n",
    "    5: (0.13, 0.55, 0.13),\n",
    "}"
   ]
  },
  {
   "cell_type": "markdown",
   "metadata": {},
   "source": [
    "### Scenes dict\n",
    "Every entry in the dict contains one scene as a pandas dataframe."
   ]
  },
  {
   "cell_type": "code",
   "execution_count": 83,
   "metadata": {},
   "outputs": [],
   "source": [
    "pcd_scenes_dict = {}\n",
    "all_pcds_frames = []\n",
    "\n",
    "for folder in folders:\n",
    "    # pcd files in subfolder lidar\n",
    "    pcd_files = [osp.join(folder, 'lidar', f) for f in os.listdir(osp.join(folder, 'lidar')) if f.endswith('.pcd')]\n",
    "\n",
    "    all_pcds_frames.extend(pcd_files)\n",
    "\n",
    "    # Concatinate all numpy arrays of all the pointclouds in the folder\n",
    "    pcds = []\n",
    "    for pcd_file in pcd_files:\n",
    "\n",
    "        pcd = pypcd.PointCloud.from_path(pcd_file)\n",
    "        pcds.append(pcd.pc_data)\n",
    "\n",
    "    pcds = np.concatenate(pcds)\n",
    "\n",
    "    # Create a dataframe with the pointclouds\n",
    "    df = DataFrame(pcds, columns=['x', 'y', 'z', 'intensity', 'sensor_index'])\n",
    "\n",
    "    pcd_scenes_dict[folder] = df"
   ]
  },
  {
   "cell_type": "markdown",
   "metadata": {},
   "source": [
    "### Distance Distributions\n",
    "Evaluation on how the points are distributes "
   ]
  },
  {
   "cell_type": "code",
   "execution_count": 84,
   "metadata": {},
   "outputs": [],
   "source": [
    "sensor_wise_dict = {}\n",
    "for scene_folder, scene_dataframe in pcd_scenes_dict.items():\n",
    "\n",
    "    for sensor_index in scene_dataframe['sensor_index'].unique():\n",
    "        if sensor_index not in sensor_wise_dict:\n",
    "            sensor_wise_dict[sensor_index] = {\n",
    "                'point_sampels': []\n",
    "            }\n",
    "        \n",
    "        # Append 10% of the points of the scene to the sensor wise dict\n",
    "        sensor_wise_dict[sensor_index]['point_sampels'].append(scene_dataframe[scene_dataframe['sensor_index'] == sensor_index].sample(frac=0.1))\n",
    "\n",
    "\n",
    "# Concatinate all the point samples of the sensors\n",
    "sensor_wise_dict_concat = {}\n",
    "for sensor_index, sensor_dict in sensor_wise_dict.items():\n",
    "    sensor_wise_dict_concat[sensor_index] = pd.concat(sensor_dict['point_sampels'])\n"
   ]
  },
  {
   "cell_type": "code",
   "execution_count": null,
   "metadata": {},
   "outputs": [],
   "source": [
    "# Create a plot with three subplots (one for each dimesnsion)\n",
    "# Every plot should show the histogram of the points of the sensor\n",
    "\n",
    "fig, axs = plt.subplots(3, 1, figsize=(10, 10))\n",
    "\n",
    "for i, (sensor_index, sensor_df) in enumerate(sensor_wise_dict_concat.items()):\n",
    "    # Calculate the mean and variance of the points\n",
    "    mean_x = sensor_df['x'].mean()\n",
    "    mean_y = sensor_df['y'].mean()\n",
    "    mean_z = sensor_df['z'].mean()\n",
    "\n",
    "    var_x = sensor_df['x'].var()\n",
    "    var_y = sensor_df['y'].var()\n",
    "    var_z = sensor_df['z'].var()\n",
    "\n",
    "    max_x = sensor_df['x'].max()\n",
    "    min_x = sensor_df['x'].min()\n",
    "\n",
    "    max_y = sensor_df['y'].max()\n",
    "    min_y = sensor_df['y'].min()\n",
    "\n",
    "    max_z = sensor_df['z'].max()\n",
    "    min_z = sensor_df['z'].min()\n",
    "\n",
    "    axs[0].hist(sensor_df['x'], bins=100, alpha=0.5, label=f'{lidar_number_to_sensor[sensor_index]}, mean: {mean_x:.1f}, var: {var_x:.1f}, min: {min_x:.1f}, max: {max_x:.1f}', color=lidar_number_to_color[sensor_index])\n",
    "    axs[1].hist(sensor_df['y'], bins=100, alpha=0.5, label=f'{lidar_number_to_sensor[sensor_index]}, mean: {mean_y:.1f}, var: {var_y:.1f}, min: {min_y:.1f}, max: {max_y:.1f}', color=lidar_number_to_color[sensor_index])\n",
    "    axs[2].hist(sensor_df['z'], bins=100, alpha=0.5, label=f'{lidar_number_to_sensor[sensor_index]}, mean: {mean_z:.1f}, var: {var_z:.1f}, min: {min_z:.1f}, max: {max_z:.1f}', color=lidar_number_to_color[sensor_index])\n",
    "\n",
    "axs[0].legend()\n",
    "axs[1].legend()\n",
    "axs[2].legend()\n",
    "\n",
    "# Set limit to the x axis of the plot on the X axis\n",
    "axs[0].set_xlim(-100, 400)\n",
    "axs[1].set_xlim(-40, 40)\n",
    "axs[2].set_xlim(-5, 10)\n",
    "\n",
    "axs[0].set_title('X')\n",
    "axs[1].set_title('Y')\n",
    "axs[2].set_title('Z')\n",
    "\n",
    "# X-axis label\n",
    "axs[2].set_xlabel('Distance [m]')\n",
    "# Y-axis label\n",
    "axs[1].set_ylabel('Number of points')\n",
    "\n",
    "# Add a title to the plot\n",
    "plt.suptitle('Per Sensor Total Point Cloud Distribution for 12 Scenes in OSDaR23')\n",
    "\n",
    "plt.show()"
   ]
  },
  {
   "cell_type": "markdown",
   "metadata": {},
   "source": [
    "### Statistics on the size of the pointcloud\n",
    "Evaluate, how large the pointcloud for the single sensors are."
   ]
  },
  {
   "cell_type": "code",
   "execution_count": 86,
   "metadata": {},
   "outputs": [],
   "source": [
    "pc_sizes = {}\n",
    "\n",
    "for scene_folder, scene_dataframe in pcd_scenes_dict.items():\n",
    "\n",
    "    for sensor_index in scene_dataframe['sensor_index'].unique():\n",
    "        if sensor_index not in pc_sizes:\n",
    "            pc_sizes[sensor_index] = []\n",
    "\n",
    "        pc_sizes[sensor_index].append(len(scene_dataframe[scene_dataframe['sensor_index'] == sensor_index]))"
   ]
  },
  {
   "cell_type": "code",
   "execution_count": null,
   "metadata": {},
   "outputs": [],
   "source": [
    "# Create a histogram of the pointcloud sizes\n",
    "\n",
    "fig, ax = plt.subplots(1, 1, figsize=(10, 10))\n",
    "\n",
    "for sensor_index, sizes in pc_sizes.items():\n",
    "\n",
    "    mean = np.mean(sizes)\n",
    "    var = np.var(sizes)\n",
    "    min_size = np.min(sizes)\n",
    "    max_size = np.max(sizes)\n",
    "\n",
    "    ax.hist(sizes, bins=50, alpha=0.5, label=f'{lidar_number_to_sensor[sensor_index]}, mean: {mean:.2f}, var: {var:.2f}, min: {min_size:.2f}, max: {max_size:.2f}', color=lidar_number_to_color[sensor_index])  \n",
    "    # ax.hist(sizes, bins=50, alpha=0.5, label=f'{sensor_index}, mean: {mean:.2f}, var: {var:.2f}, min: {min_size:.2f}, max: {max_size:.2f}')\n",
    "\n",
    "ax.legend()\n",
    "ax.set_title('Pointcloud sizes')\n",
    "plt.show()\n",
    "    "
   ]
  },
  {
   "cell_type": "markdown",
   "metadata": {},
   "source": [
    "### Investigating effects of pointcloud range"
   ]
  },
  {
   "cell_type": "code",
   "execution_count": 88,
   "metadata": {},
   "outputs": [],
   "source": [
    "pointcloud_range = [0, -39.68, -3, 101.12, 39.68, 10]"
   ]
  },
  {
   "cell_type": "code",
   "execution_count": null,
   "metadata": {},
   "outputs": [],
   "source": [
    "# Calculate the percentage, and absolute number of points that are inside the range\n",
    "\n",
    "for scene_folder, scene_dataframe in pcd_scenes_dict.items():\n",
    "\n",
    "    points_inside_range = scene_dataframe[(scene_dataframe['x'] >= pointcloud_range[0]) & (scene_dataframe['x'] <= pointcloud_range[3]) & (scene_dataframe['y'] >= pointcloud_range[1]) & (scene_dataframe['y'] <= pointcloud_range[4]) & (scene_dataframe['z'] >= pointcloud_range[2]) & (scene_dataframe['z'] <= pointcloud_range[5])]\n",
    "\n",
    "    percentage_inside = len(points_inside_range) / len(scene_dataframe) * 100\n",
    "    absolute_number_inside = len(points_inside_range)\n",
    "\n",
    "    print(f'{scene_folder}: {percentage_inside:.2f}% of the points are inside the range, which is {absolute_number_inside} points')\n"
   ]
  },
  {
   "cell_type": "code",
   "execution_count": null,
   "metadata": {},
   "outputs": [],
   "source": [
    "# Create a bar plot with one bar for every scene\n",
    "# Each bar should show the absolute number of points that are inside the range for each individual sensor_index\n",
    "\n",
    "fig, ax = plt.subplots(1, 1, figsize=(10, 10))\n",
    "\n",
    "sensors = list(pcd_scenes_dict[folders[0]]['sensor_index'].unique())\n",
    "sensor_labels = [lidar_number_to_sensor[sensor] for sensor in sensors]\n",
    "\n",
    "# label shoud contain everything in the foldername after the last /\n",
    "labels = [f.split('/')[-1] for f in folders]\n",
    "\n",
    "bottom = [0] * len(labels)\n",
    "\n",
    "for sensor in sensors:\n",
    "\n",
    "    points_inside_range_per_sensor_percentage = []\n",
    "\n",
    "    for scene_folder, scene_dataframe in pcd_scenes_dict.items():\n",
    "            \n",
    "            points_inside_range = scene_dataframe[(scene_dataframe['x'] >= pointcloud_range[0]) & (scene_dataframe['x'] <= pointcloud_range[3]) & (scene_dataframe['y'] >= pointcloud_range[1]) & (scene_dataframe['y'] <= pointcloud_range[4]) & (scene_dataframe['z'] >= pointcloud_range[2]) & (scene_dataframe['z'] <= pointcloud_range[5]) & (scene_dataframe['sensor_index'] == sensor)]\n",
    "\n",
    "            # points inside range with sensor index == sensor\n",
    "            points_inside_range_per_sensor = points_inside_range[points_inside_range['sensor_index'] == sensor]\n",
    "\n",
    "            points_inside_range_per_sensor_percentage.append(len(points_inside_range_per_sensor)/len(scene_dataframe))\n",
    "\n",
    "    p = ax.bar(labels, points_inside_range_per_sensor_percentage, label=f'{lidar_number_to_sensor[sensor]}', bottom=bottom, color=lidar_number_to_color[sensor])\n",
    "\n",
    "    bottom += np.array(points_inside_range_per_sensor_percentage)\n",
    "    \n",
    "ax.legend()\n",
    "ax.set_title('Sensor affiliation of points inside the range')\n",
    "\n",
    "ax.set_ylabel('Percentage of points inside the range')\n",
    "ax.set_xlabel('Scene')\n",
    "\n",
    "# Rotate the x labels\n",
    "plt.xticks(rotation=80)\n",
    "\n",
    "plt.show()\n"
   ]
  },
  {
   "cell_type": "markdown",
   "metadata": {},
   "source": [
    "### Visualize pointclouds"
   ]
  },
  {
   "cell_type": "code",
   "execution_count": null,
   "metadata": {},
   "outputs": [],
   "source": [
    "# Chose a random pointcloud and visulize it\n",
    "# Set the color of the points according to the sensor index, there is 6 different sensors\n",
    "\n",
    "# First, load a random  pointcloud\n",
    "random_pcd = np.random.choice(all_pcds_frames)\n",
    "\n",
    "print(f'Visualizing pointcloud: {random_pcd}')\n",
    "\n",
    "pcd = pypcd.PointCloud.from_path(random_pcd)\n",
    "pcd = pcd.pc_data\n",
    "\n",
    "# Create a numpy array with the colors of the points\n",
    "colors = np.array([lidar_number_to_rgb[sensor_index] for sensor_index in pcd['sensor_index']])\n",
    "\n",
    "# Create and visualize the pointcloud\n",
    "open3d_pcd = o3d.io.read_point_cloud(random_pcd)\n",
    "\n",
    "# Select the points that are in the range of the pointcloud\n",
    "points = np.array(open3d_pcd.points)\n",
    "\n",
    "in_range_criterion = np.logical_and.reduce([points[:, 0] > pointcloud_range[0], points[:, 0] < pointcloud_range[3], points[:, 1] > pointcloud_range[1], points[:, 1] < pointcloud_range[4], points[:, 2] > pointcloud_range[2], points[:, 2] < pointcloud_range[5]])\n",
    "\n",
    "# Turn all points out of range grey\n",
    "\n",
    "colors[~in_range_criterion] = (0.5, 0.5, 0.5)\n",
    "\n",
    "open3d_pcd.colors = o3d.utility.Vector3dVector(colors)\n",
    "\n",
    "o3d.visualization.draw_geometries([open3d_pcd])\n",
    "\n"
   ]
  }
 ],
 "metadata": {
  "kernelspec": {
   "display_name": "Python 3",
   "language": "python",
   "name": "python3"
  },
  "language_info": {
   "codemirror_mode": {
    "name": "ipython",
    "version": 3
   },
   "file_extension": ".py",
   "mimetype": "text/x-python",
   "name": "python",
   "nbconvert_exporter": "python",
   "pygments_lexer": "ipython3",
   "version": "3.8.19"
  }
 },
 "nbformat": 4,
 "nbformat_minor": 2
}
