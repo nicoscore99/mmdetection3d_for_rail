{
 "cells": [
  {
   "cell_type": "code",
   "execution_count": null,
   "metadata": {},
   "outputs": [],
   "source": [
    "from mmdet3d.registry import MODELS\n",
    "from mmdet3d.testing import (create_detector_inputs, get_detector_cfg, setup_seed)\n",
    "import torchinfo\n",
    "\n",
    "from mmdet3d.utils import register_all_modules\n",
    "register_all_modules()"
   ]
  },
  {
   "cell_type": "code",
   "execution_count": null,
   "metadata": {},
   "outputs": [],
   "source": [
    "MODELS"
   ]
  },
  {
   "cell_type": "markdown",
   "metadata": {},
   "source": [
    "## PointPillars Model"
   ]
  },
  {
   "cell_type": "code",
   "execution_count": null,
   "metadata": {},
   "outputs": [],
   "source": [
    "pointpillars_cfg = get_detector_cfg('/home/cws-ml-lab/mmdetection3d_for_rail/configs/_base_/models/pointpillars_hv_secfpn_kitti.py')\n",
    "model = MODELS.build(pointpillars_cfg)\n",
    "torchinfo.summary(model)"
   ]
  },
  {
   "cell_type": "markdown",
   "metadata": {},
   "source": [
    "## PV-RCNN"
   ]
  },
  {
   "cell_type": "code",
   "execution_count": null,
   "metadata": {},
   "outputs": [],
   "source": [
    "pvrcnn_cfg = get_detector_cfg('/home/cws-ml-lab/mmdetection3d_for_rail/configs/pv_rcnn/pv_rcnn_8xb2-80e_kitti-3d-3class.py')\n",
    "model = MODELS.build(pvrcnn_cfg)\n",
    "torchinfo.summary(model)"
   ]
  },
  {
   "cell_type": "markdown",
   "metadata": {},
   "source": [
    "## CenterPoint"
   ]
  },
  {
   "cell_type": "code",
   "execution_count": null,
   "metadata": {},
   "outputs": [],
   "source": [
    "centerpoint_cfg = get_detector_cfg('/home/cws-ml-lab/mmdetection3d_for_rail/configs/centerpoint/centerpoint_voxel01_second_secfpn_generic.py')\n",
    "model = MODELS.build(centerpoint_cfg)\n",
    "\n",
    "torchinfo.summary(model)"
   ]
  },
  {
   "cell_type": "code",
   "execution_count": null,
   "metadata": {},
   "outputs": [],
   "source": [
    "packed_inputs"
   ]
  },
  {
   "cell_type": "markdown",
   "metadata": {},
   "source": [
    "## Pointnet++ Classification Model"
   ]
  },
  {
   "cell_type": "code",
   "execution_count": null,
   "metadata": {},
   "outputs": [],
   "source": [
    "classification_model_config = get_detector_cfg('/home/cws-ml-lab/mmdetection3d_for_rail/configs/pointnet_based_classification/pointnet2_classification_pipeline_test.py')\n",
    "model = MODELS.build(classification_model_config)\n",
    "\n",
    "torchinfo.summary(model)"
   ]
  }
 ],
 "metadata": {
  "kernelspec": {
   "display_name": "Python 3",
   "language": "python",
   "name": "python3"
  },
  "language_info": {
   "codemirror_mode": {
    "name": "ipython",
    "version": 3
   },
   "file_extension": ".py",
   "mimetype": "text/x-python",
   "name": "python",
   "nbconvert_exporter": "python",
   "pygments_lexer": "ipython3",
   "version": "3.10.12"
  }
 },
 "nbformat": 4,
 "nbformat_minor": 2
}
