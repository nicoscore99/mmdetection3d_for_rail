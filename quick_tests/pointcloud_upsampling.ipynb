{
 "cells": [
  {
   "cell_type": "code",
   "execution_count": 16,
   "metadata": {},
   "outputs": [],
   "source": [
    "from scipy.spatial import Voronoi, voronoi_plot_2d, Delaunay, cKDTree\n",
    "import pypcd.pypcd as pypcd\n",
    "import numpy as np\n",
    "import open3d as o3d\n",
    "import time"
   ]
  },
  {
   "cell_type": "code",
   "execution_count": 7,
   "metadata": {},
   "outputs": [],
   "source": [
    "stadler_blue =(30, 90, 154)\n",
    "stadler_yellow = (255, 189, 0)\n",
    "stadler_grey = (192,192,192)"
   ]
  },
  {
   "cell_type": "code",
   "execution_count": 21,
   "metadata": {},
   "outputs": [],
   "source": [
    "# def upsample(pc, n):\n",
    "    \n",
    "#     start = time.time()\n",
    "    \n",
    "#     vor = Voronoi(pc[:, :3])\n",
    "#     tree = cKDTree(pc[:, :3])\n",
    "#     nearest_points = tree.query(vor.vertices)\n",
    "#     distances = nearest_points[0]\n",
    "#     indices = nearest_points[1]\n",
    "#     sorted_indices = np.argsort(distances)\n",
    "#     sorted_distances = distances[sorted_indices]\n",
    "#     clostest_indices = sorted_indices[:n]\n",
    "#     clostest_points = vor.vertices[clostest_indices]\n",
    "#     new_points = np.concatenate([pc[:, :3], clostest_points], axis=0)\n",
    "    \n",
    "#     end = time.time()\n",
    "    \n",
    "    \n",
    "#     print(\"Time: \", end - start)\n",
    "        \n",
    "#     return new_points"
   ]
  },
  {
   "cell_type": "code",
   "execution_count": 22,
   "metadata": {},
   "outputs": [],
   "source": [
    "# def upsample_open3d(pc, max_points):\n",
    "    \n",
    "#     start = time.time()\n",
    "    \n",
    "#     pcd = o3d.geometry.PointCloud()\n",
    "#     pcd.points = o3d.utility.Vector3dVector(pc[:, :3])\n",
    "#     alpha = 0.2\n",
    "#     mesh = o3d.geometry.TriangleMesh.create_from_point_cloud_alpha_shape(pcd, alpha)\n",
    "#     # mesh.compute_vertex_normals()\n",
    "#     pcd = mesh.sample_points_poisson_disk(max_points)\n",
    "    \n",
    "#     print(\"Time taken: \", time.time() - start)\n",
    "#     return np.asarray(pcd.points)"
   ]
  },
  {
   "cell_type": "code",
   "execution_count": 2,
   "metadata": {},
   "outputs": [],
   "source": [
    "def upsample_ball_pivoting(pc, max_points):\n",
    "    \n",
    "    start = time.time()\n",
    "    \n",
    "    pcd = o3d.geometry.PointCloud()\n",
    "    pcd.points = o3d.utility.Vector3dVector(pc[:, :3])\n",
    "    pcd.estimate_normals()\n",
    "    distances = pcd.compute_nearest_neighbor_distance()\n",
    "    avg_dist = np.mean(distances)\n",
    "    radius = avg_dist*3\n",
    "    # print(\"Radius: \", radius)\n",
    "    # pcd.estimate_normals(search_param=o3d.geometry.KDTreeSearchParamHybrid(radius=radius, max_nn=30))\n",
    "    bpa_mesh = o3d.geometry.TriangleMesh.create_from_point_cloud_ball_pivoting(pcd, o3d.utility.DoubleVector([radius, radius * 2, radius * 4]))\n",
    "    pcd = bpa_mesh.sample_points_poisson_disk(max_points)\n",
    "    \n",
    "    # print(\"Time taken: \", time.time() - start)\n",
    "    return np.asarray(pcd.points)"
   ]
  },
  {
   "cell_type": "code",
   "execution_count": 24,
   "metadata": {},
   "outputs": [],
   "source": [
    "# def upsample_open3d(pc, max_points):\n",
    "#     pcd = o3d.geometry.PointCloud()\n",
    "#     pcd.points = o3d.utility.Vector3dVector(pc[:, :3])\n",
    "#     pcd.normals = o3d.utility.Vector3dVector(np.zeros_like(pc[:, :3]))\n",
    "#     pcd.estimate_normals()\n",
    "#     mesh = o3d.geometry.TriangleMesh.create_from_point_cloud_poisson(pcd, depth=9, width=0, scale=1.1, linear_fit=False)[0]\n",
    "#     mesh.compute_vertex_normals()\n",
    "#     pcd = mesh.sample_points_poisson_disk(max_points)\n",
    "#     return np.asarray(pcd.points)"
   ]
  },
  {
   "cell_type": "code",
   "execution_count": 3,
   "metadata": {},
   "outputs": [],
   "source": [
    "# folder = '/home/cws-ml-lab/mmdetection3d_for_rail/data/robosense_m1_plus_sequences/kitti_gt_database'\n",
    "folder = '/home/cws-ml-lab/mmdetection3d_for_rail/data/robosense_m1_plus_sequences/kitti_gt_database'"
   ]
  },
  {
   "cell_type": "code",
   "execution_count": 4,
   "metadata": {},
   "outputs": [],
   "source": [
    "lower_limit = 50\n",
    "upper_limit = 256"
   ]
  },
  {
   "cell_type": "code",
   "execution_count": null,
   "metadata": {},
   "outputs": [],
   "source": [
    "# iterate through all files in the folder\n",
    "import os\n",
    "\n",
    "all_files = os.listdir(folder)\n",
    "# shuffle the files\n",
    "\n",
    "all_files = ['/home/cws-ml-lab/mmdetection3d_for_rail/data/robosense_m1_plus_sequences/kitti_gt_database/781_Cyclist_0.bin']\n",
    "\n",
    "np.random.shuffle(all_files)\n",
    "\n",
    "\n",
    "for filename in all_files:\n",
    "    \n",
    "    print(\"Processing file: \", filename)\n",
    "    \n",
    "    # read the point cloud\n",
    "    pc = np.fromfile(os.path.join(folder, filename), dtype=np.float32).reshape(-1, 4)\n",
    "    \n",
    "    if pc.shape[0] < lower_limit:\n",
    "        continue\n",
    "    \n",
    "    if pc.shape[0] > upper_limit:\n",
    "        continue\n",
    "    \n",
    "    try:\n",
    "\n",
    "        num_points_for_interp = 256 - pc.shape[0]\n",
    "        new_pc = upsample_ball_pivoting(pc, num_points_for_interp)\n",
    "        \n",
    "        # make all points black\n",
    "        \n",
    "        print(\"Original point cloud\")\n",
    "        print(\"Nump points: \", pc.shape[0])\n",
    "        \n",
    "        # plot once before upsampling\n",
    "        pcd = o3d.geometry.PointCloud()\n",
    "        pcd.points = o3d.utility.Vector3dVector(pc[:, :3])\n",
    "        pcd.colors = o3d.utility.Vector3dVector(np.zeros((pc.shape[0], 3)))\n",
    "        o3d.visualization.draw_geometries([pcd])\n",
    "        \n",
    "        # pc and new_pc are of size (N, 3) and (M, 3) respectively\n",
    "        \n",
    "        new_pc = np.concatenate([pc[:, :3], new_pc], axis=0)\n",
    "        \n",
    "        color = np.zeros((new_pc.shape[0], 3))\n",
    "        color[pc.shape[0]:, :] = [30, 90, 154]\n",
    "        color[:pc.shape[0], :] = [0, 0, 0]\n",
    "        \n",
    "        # increase point size\n",
    "        \n",
    "        pcd = o3d.geometry.PointCloud()\n",
    "        pcd.points = o3d.utility.Vector3dVector(new_pc)\n",
    "        pcd.colors = o3d.utility.Vector3dVector(color.astype(np.float64)/255.0)\n",
    "        o3d.visualization.draw_geometries([pcd])\n",
    "        \n",
    "    except Exception as e:\n",
    "        print(\"Error: \", e)\n",
    "        continue"
   ]
  },
  {
   "cell_type": "code",
   "execution_count": 30,
   "metadata": {},
   "outputs": [],
   "source": [
    "# point_cloud_path =  '/home/cws-ml-lab/mmdetection3d_for_rail/data/kitti_cls/kitti_gt_database/781_Cyclist_0.bin'\n",
    "point_cloud_path = '/home/cws-ml-lab/mmdetection3d_for_rail/data/robosense_m1_plus_sequences/kitti_gt_database/781_Cyclist_0.bin'"
   ]
  },
  {
   "cell_type": "code",
   "execution_count": 38,
   "metadata": {},
   "outputs": [],
   "source": [
    "# load the point cloud\n",
    "pc = np.fromfile(point_cloud_path, dtype=np.float32).reshape(-1, 4)\n",
    "\n",
    "color = np.zeros((pc.shape[0], 3))\n",
    "\n",
    "# visualize the point cloud\n",
    "pcd = o3d.geometry.PointCloud()\n",
    "pcd.points = o3d.utility.Vector3dVector(pc[:, :3])\n",
    "o3d.visualization.draw_geometries([pcd])\n"
   ]
  },
  {
   "cell_type": "code",
   "execution_count": 17,
   "metadata": {},
   "outputs": [],
   "source": [
    "# upsample\n",
    "\n",
    "pcd = o3d.geometry.PointCloud()\n",
    "pcd.points = o3d.utility.Vector3dVector(pc[:, :3])\n",
    "pcd.estimate_normals()\n",
    "distances = pcd.compute_nearest_neighbor_distance()\n",
    "avg_dist = np.mean(distances)\n",
    "radius = avg_dist*3\n",
    "bpa_mesh = o3d.geometry.TriangleMesh.create_from_point_cloud_ball_pivoting(pcd, o3d.utility.DoubleVector([radius, radius * 2, radius * 4]))\n",
    "# set color of the mesh\n",
    "bpa_mesh.paint_uniform_color((0.117, 0.352, 0.603))\n",
    "\n",
    "# viualize the mesh\n",
    "o3d.visualization.draw_geometries([bpa_mesh])"
   ]
  },
  {
   "cell_type": "code",
   "execution_count": null,
   "metadata": {},
   "outputs": [],
   "source": []
  }
 ],
 "metadata": {
  "kernelspec": {
   "display_name": "Python 3",
   "language": "python",
   "name": "python3"
  },
  "language_info": {
   "codemirror_mode": {
    "name": "ipython",
    "version": 3
   },
   "file_extension": ".py",
   "mimetype": "text/x-python",
   "name": "python",
   "nbconvert_exporter": "python",
   "pygments_lexer": "ipython3",
   "version": "3.10.12"
  }
 },
 "nbformat": 4,
 "nbformat_minor": 2
}
