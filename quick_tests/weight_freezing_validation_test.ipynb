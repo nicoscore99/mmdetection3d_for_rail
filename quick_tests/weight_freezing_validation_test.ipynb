{
 "cells": [
  {
   "cell_type": "code",
   "execution_count": 4,
   "metadata": {},
   "outputs": [],
   "source": [
    "import torch\n",
    "from mmengine import DefaultScope\n",
    "import mmdet3d.models\n",
    "assert hasattr(mmdet3d.models, 'SECOND')\n",
    "from mmdet3d.registry import MODELS\n",
    "from mmdet3d.testing import (create_detector_inputs, get_detector_cfg,\n",
    "                             setup_seed)\n",
    "import torchinfo\n",
    "import torch as th"
   ]
  },
  {
   "cell_type": "code",
   "execution_count": 5,
   "metadata": {},
   "outputs": [],
   "source": [
    "initialization_model_path = '/home/cws-ml-lab/mmdetection3d_for_rail/checkpoints/rtx4k_pp_run11_src_osdar23_3class/epoch_80.pth'\n",
    "\n",
    "overtrained_model_with_frozen_backbone_path = '/home/cws-ml-lab/mmdetection3d_for_rail/experiments/dataset_subsample_overtraining/pp/1_over_1/epoch_1.pth'"
   ]
  },
  {
   "cell_type": "code",
   "execution_count": 6,
   "metadata": {},
   "outputs": [],
   "source": [
    "# load torch model\n",
    "initialization_model = torch.load(initialization_model_path)"
   ]
  },
  {
   "cell_type": "code",
   "execution_count": 7,
   "metadata": {},
   "outputs": [],
   "source": [
    "overtrained_model_with_frozen_backbone_path = torch.load(overtrained_model_with_frozen_backbone_path)"
   ]
  },
  {
   "cell_type": "code",
   "execution_count": null,
   "metadata": {},
   "outputs": [],
   "source": [
    "initialization_model['state_dict'].keys()"
   ]
  },
  {
   "cell_type": "code",
   "execution_count": null,
   "metadata": {},
   "outputs": [],
   "source": [
    "overtrained_model_with_frozen_backbone_path['state_dict'].keys()"
   ]
  },
  {
   "cell_type": "code",
   "execution_count": null,
   "metadata": {},
   "outputs": [],
   "source": [
    "unequal_keys = []\n",
    "\n",
    "for key in initialization_model['state_dict'].keys():\n",
    "    \n",
    "    # Check if the weights are the same\n",
    "    if not torch.equal(initialization_model['state_dict'][key], overtrained_model_with_frozen_backbone_path['state_dict'][key]):\n",
    "        \n",
    "        unequal_keys.append(key)\n",
    "        \n",
    "    else:\n",
    "        print(f\"key: {key} is equal\")\n",
    "        \n",
    "print(f\"Percentage of unequal keys: {len(unequal_keys) / len(initialization_model['state_dict'].keys())}\")"
   ]
  },
  {
   "cell_type": "code",
   "execution_count": null,
   "metadata": {},
   "outputs": [],
   "source": []
  }
 ],
 "metadata": {
  "kernelspec": {
   "display_name": "Python 3",
   "language": "python",
   "name": "python3"
  },
  "language_info": {
   "codemirror_mode": {
    "name": "ipython",
    "version": 3
   },
   "file_extension": ".py",
   "mimetype": "text/x-python",
   "name": "python",
   "nbconvert_exporter": "python",
   "pygments_lexer": "ipython3",
   "version": "3.10.12"
  }
 },
 "nbformat": 4,
 "nbformat_minor": 2
}
